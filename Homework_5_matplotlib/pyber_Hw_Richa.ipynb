{
 "cells": [
  {
   "cell_type": "markdown",
   "metadata": {},
   "source": [
    "# Pyber\n",
    "\n",
    "1. The driver count is lower in rural cities compared to the suburban and urban areas indicating a correlation between the density of drivers and city type. \n",
    "\n",
    "2. In the rural areas the total rides count is skewed towards higher average fares while in the urban areas there is higher total rides and lower average fares. In suburban cities the relationship clusters around the average. \n",
    "\n",
    "3. The urban cities account for the highest share in the total fare, total rides and total driver count followed by suburban and then the rural areas\n",
    "\n",
    " "
   ]
  },
  {
   "cell_type": "code",
   "execution_count": 1,
   "metadata": {},
   "outputs": [
    {
     "data": {
      "text/html": [
       "<div>\n",
       "<style scoped>\n",
       "    .dataframe tbody tr th:only-of-type {\n",
       "        vertical-align: middle;\n",
       "    }\n",
       "\n",
       "    .dataframe tbody tr th {\n",
       "        vertical-align: top;\n",
       "    }\n",
       "\n",
       "    .dataframe thead th {\n",
       "        text-align: right;\n",
       "    }\n",
       "</style>\n",
       "<table border=\"1\" class=\"dataframe\">\n",
       "  <thead>\n",
       "    <tr style=\"text-align: right;\">\n",
       "      <th></th>\n",
       "      <th>city</th>\n",
       "      <th>driver_count</th>\n",
       "      <th>type</th>\n",
       "      <th>date</th>\n",
       "      <th>fare</th>\n",
       "      <th>ride_id</th>\n",
       "    </tr>\n",
       "  </thead>\n",
       "  <tbody>\n",
       "    <tr>\n",
       "      <th>0</th>\n",
       "      <td>Richardfort</td>\n",
       "      <td>38</td>\n",
       "      <td>Urban</td>\n",
       "      <td>2018-02-24 08:40:38</td>\n",
       "      <td>13.93</td>\n",
       "      <td>5628545007794</td>\n",
       "    </tr>\n",
       "    <tr>\n",
       "      <th>1</th>\n",
       "      <td>Richardfort</td>\n",
       "      <td>38</td>\n",
       "      <td>Urban</td>\n",
       "      <td>2018-02-13 12:46:07</td>\n",
       "      <td>14.00</td>\n",
       "      <td>910050116494</td>\n",
       "    </tr>\n",
       "    <tr>\n",
       "      <th>2</th>\n",
       "      <td>Richardfort</td>\n",
       "      <td>38</td>\n",
       "      <td>Urban</td>\n",
       "      <td>2018-02-16 13:52:19</td>\n",
       "      <td>17.92</td>\n",
       "      <td>820639054416</td>\n",
       "    </tr>\n",
       "    <tr>\n",
       "      <th>3</th>\n",
       "      <td>Richardfort</td>\n",
       "      <td>38</td>\n",
       "      <td>Urban</td>\n",
       "      <td>2018-02-01 20:18:28</td>\n",
       "      <td>10.26</td>\n",
       "      <td>9554935945413</td>\n",
       "    </tr>\n",
       "    <tr>\n",
       "      <th>4</th>\n",
       "      <td>Richardfort</td>\n",
       "      <td>38</td>\n",
       "      <td>Urban</td>\n",
       "      <td>2018-04-17 02:26:37</td>\n",
       "      <td>23.00</td>\n",
       "      <td>720020655850</td>\n",
       "    </tr>\n",
       "  </tbody>\n",
       "</table>\n",
       "</div>"
      ],
      "text/plain": [
       "          city  driver_count   type                 date   fare        ride_id\n",
       "0  Richardfort            38  Urban  2018-02-24 08:40:38  13.93  5628545007794\n",
       "1  Richardfort            38  Urban  2018-02-13 12:46:07  14.00   910050116494\n",
       "2  Richardfort            38  Urban  2018-02-16 13:52:19  17.92   820639054416\n",
       "3  Richardfort            38  Urban  2018-02-01 20:18:28  10.26  9554935945413\n",
       "4  Richardfort            38  Urban  2018-04-17 02:26:37  23.00   720020655850"
      ]
     },
     "execution_count": 1,
     "metadata": {},
     "output_type": "execute_result"
    }
   ],
   "source": [
    "%matplotlib inline\n",
    "# Dependencies and Setup\n",
    "import matplotlib.pyplot as plt\n",
    "import pandas as pd\n",
    "import numpy as np\n",
    "np.random.seed(1974)\n",
    "\n",
    "# File to Load (Remember to change these)\n",
    "city_data_to_load = \"data/city_data.csv\"\n",
    "ride_data_to_load = \"data/ride_data.csv\"\n",
    "\n",
    "# Read the City and Ride Data\n",
    "city_data = pd.read_csv(city_data_to_load)\n",
    "ride_data = pd.read_csv(ride_data_to_load)\n",
    " \n",
    "# Combine the data into a single dataset\n",
    "combined_data = pd.merge(city_data,ride_data, how = 'outer', on = 'city' )\n",
    "# Display the data table for preview\n",
    "combined_data.head()"
   ]
  },
  {
   "cell_type": "code",
   "execution_count": 2,
   "metadata": {},
   "outputs": [
    {
     "data": {
      "text/plain": [
       "city            2375\n",
       "driver_count    2375\n",
       "type            2375\n",
       "date            2375\n",
       "fare            2375\n",
       "ride_id         2375\n",
       "dtype: int64"
      ]
     },
     "execution_count": 2,
     "metadata": {},
     "output_type": "execute_result"
    }
   ],
   "source": [
    "combined_data.count()"
   ]
  },
  {
   "cell_type": "code",
   "execution_count": 3,
   "metadata": {},
   "outputs": [
    {
     "data": {
      "text/plain": [
       "city            120\n",
       "driver_count    120\n",
       "type            120\n",
       "dtype: int64"
      ]
     },
     "execution_count": 3,
     "metadata": {},
     "output_type": "execute_result"
    }
   ],
   "source": [
    "city_data.count()"
   ]
  },
  {
   "cell_type": "code",
   "execution_count": 4,
   "metadata": {},
   "outputs": [
    {
     "data": {
      "text/plain": [
       "city       2375\n",
       "date       2375\n",
       "fare       2375\n",
       "ride_id    2375\n",
       "dtype: int64"
      ]
     },
     "execution_count": 4,
     "metadata": {},
     "output_type": "execute_result"
    }
   ],
   "source": [
    "ride_data.count()"
   ]
  },
  {
   "cell_type": "code",
   "execution_count": 5,
   "metadata": {},
   "outputs": [
    {
     "data": {
      "text/html": [
       "<div>\n",
       "<style scoped>\n",
       "    .dataframe tbody tr th:only-of-type {\n",
       "        vertical-align: middle;\n",
       "    }\n",
       "\n",
       "    .dataframe tbody tr th {\n",
       "        vertical-align: top;\n",
       "    }\n",
       "\n",
       "    .dataframe thead th {\n",
       "        text-align: right;\n",
       "    }\n",
       "</style>\n",
       "<table border=\"1\" class=\"dataframe\">\n",
       "  <thead>\n",
       "    <tr style=\"text-align: right;\">\n",
       "      <th></th>\n",
       "      <th>city</th>\n",
       "      <th>driver_count</th>\n",
       "      <th>type</th>\n",
       "      <th>date</th>\n",
       "      <th>fare</th>\n",
       "      <th>ride_id</th>\n",
       "    </tr>\n",
       "  </thead>\n",
       "  <tbody>\n",
       "    <tr>\n",
       "      <th>0</th>\n",
       "      <td>Richardfort</td>\n",
       "      <td>38</td>\n",
       "      <td>Urban</td>\n",
       "      <td>2018-02-24 08:40:38</td>\n",
       "      <td>13.93</td>\n",
       "      <td>5628545007794</td>\n",
       "    </tr>\n",
       "    <tr>\n",
       "      <th>1</th>\n",
       "      <td>Richardfort</td>\n",
       "      <td>38</td>\n",
       "      <td>Urban</td>\n",
       "      <td>2018-02-13 12:46:07</td>\n",
       "      <td>14.00</td>\n",
       "      <td>910050116494</td>\n",
       "    </tr>\n",
       "    <tr>\n",
       "      <th>2</th>\n",
       "      <td>Richardfort</td>\n",
       "      <td>38</td>\n",
       "      <td>Urban</td>\n",
       "      <td>2018-02-16 13:52:19</td>\n",
       "      <td>17.92</td>\n",
       "      <td>820639054416</td>\n",
       "    </tr>\n",
       "    <tr>\n",
       "      <th>3</th>\n",
       "      <td>Richardfort</td>\n",
       "      <td>38</td>\n",
       "      <td>Urban</td>\n",
       "      <td>2018-02-01 20:18:28</td>\n",
       "      <td>10.26</td>\n",
       "      <td>9554935945413</td>\n",
       "    </tr>\n",
       "    <tr>\n",
       "      <th>4</th>\n",
       "      <td>Richardfort</td>\n",
       "      <td>38</td>\n",
       "      <td>Urban</td>\n",
       "      <td>2018-04-17 02:26:37</td>\n",
       "      <td>23.00</td>\n",
       "      <td>720020655850</td>\n",
       "    </tr>\n",
       "  </tbody>\n",
       "</table>\n",
       "</div>"
      ],
      "text/plain": [
       "          city  driver_count   type                 date   fare        ride_id\n",
       "0  Richardfort            38  Urban  2018-02-24 08:40:38  13.93  5628545007794\n",
       "1  Richardfort            38  Urban  2018-02-13 12:46:07  14.00   910050116494\n",
       "2  Richardfort            38  Urban  2018-02-16 13:52:19  17.92   820639054416\n",
       "3  Richardfort            38  Urban  2018-02-01 20:18:28  10.26  9554935945413\n",
       "4  Richardfort            38  Urban  2018-04-17 02:26:37  23.00   720020655850"
      ]
     },
     "execution_count": 5,
     "metadata": {},
     "output_type": "execute_result"
    }
   ],
   "source": [
    "#set dataframe  \n",
    "df=pd.DataFrame(combined_data)\n",
    "df.head()"
   ]
  },
  {
   "cell_type": "markdown",
   "metadata": {},
   "source": [
    "## Bubble Plot of Ride Sharing Data"
   ]
  },
  {
   "cell_type": "code",
   "execution_count": 6,
   "metadata": {},
   "outputs": [
    {
     "data": {
      "text/html": [
       "<div>\n",
       "<style scoped>\n",
       "    .dataframe tbody tr th:only-of-type {\n",
       "        vertical-align: middle;\n",
       "    }\n",
       "\n",
       "    .dataframe tbody tr th {\n",
       "        vertical-align: top;\n",
       "    }\n",
       "\n",
       "    .dataframe thead th {\n",
       "        text-align: right;\n",
       "    }\n",
       "</style>\n",
       "<table border=\"1\" class=\"dataframe\">\n",
       "  <thead>\n",
       "    <tr style=\"text-align: right;\">\n",
       "      <th></th>\n",
       "      <th>fare</th>\n",
       "    </tr>\n",
       "    <tr>\n",
       "      <th>city</th>\n",
       "      <th></th>\n",
       "    </tr>\n",
       "  </thead>\n",
       "  <tbody>\n",
       "    <tr>\n",
       "      <th>Amandaburgh</th>\n",
       "      <td>24.641667</td>\n",
       "    </tr>\n",
       "    <tr>\n",
       "      <th>Barajasview</th>\n",
       "      <td>25.332273</td>\n",
       "    </tr>\n",
       "    <tr>\n",
       "      <th>Barronchester</th>\n",
       "      <td>36.422500</td>\n",
       "    </tr>\n",
       "    <tr>\n",
       "      <th>Bethanyland</th>\n",
       "      <td>32.956111</td>\n",
       "    </tr>\n",
       "    <tr>\n",
       "      <th>Bradshawfurt</th>\n",
       "      <td>40.064000</td>\n",
       "    </tr>\n",
       "  </tbody>\n",
       "</table>\n",
       "</div>"
      ],
      "text/plain": [
       "                    fare\n",
       "city                    \n",
       "Amandaburgh    24.641667\n",
       "Barajasview    25.332273\n",
       "Barronchester  36.422500\n",
       "Bethanyland    32.956111\n",
       "Bradshawfurt   40.064000"
      ]
     },
     "execution_count": 6,
     "metadata": {},
     "output_type": "execute_result"
    }
   ],
   "source": [
    "# Obtain the x and y coordinates for each of the three city types\n",
    "\n",
    "#Group by city \n",
    "by_city =df.groupby(\"city\")  \n",
    "by_city.head()\n",
    "#Average fare per city \n",
    "avg_fare_by_city = by_city[\"fare\"].mean()\n",
    "avg_fare_by_city= pd.DataFrame(avg_fare_by_city)\n",
    "avg_fare_by_city.head()"
   ]
  },
  {
   "cell_type": "code",
   "execution_count": 7,
   "metadata": {},
   "outputs": [
    {
     "data": {
      "text/html": [
       "<div>\n",
       "<style scoped>\n",
       "    .dataframe tbody tr th:only-of-type {\n",
       "        vertical-align: middle;\n",
       "    }\n",
       "\n",
       "    .dataframe tbody tr th {\n",
       "        vertical-align: top;\n",
       "    }\n",
       "\n",
       "    .dataframe thead th {\n",
       "        text-align: right;\n",
       "    }\n",
       "</style>\n",
       "<table border=\"1\" class=\"dataframe\">\n",
       "  <thead>\n",
       "    <tr style=\"text-align: right;\">\n",
       "      <th></th>\n",
       "      <th>ride_id</th>\n",
       "    </tr>\n",
       "    <tr>\n",
       "      <th>city</th>\n",
       "      <th></th>\n",
       "    </tr>\n",
       "  </thead>\n",
       "  <tbody>\n",
       "    <tr>\n",
       "      <th>Amandaburgh</th>\n",
       "      <td>18</td>\n",
       "    </tr>\n",
       "    <tr>\n",
       "      <th>Barajasview</th>\n",
       "      <td>22</td>\n",
       "    </tr>\n",
       "    <tr>\n",
       "      <th>Barronchester</th>\n",
       "      <td>16</td>\n",
       "    </tr>\n",
       "    <tr>\n",
       "      <th>Bethanyland</th>\n",
       "      <td>18</td>\n",
       "    </tr>\n",
       "    <tr>\n",
       "      <th>Bradshawfurt</th>\n",
       "      <td>10</td>\n",
       "    </tr>\n",
       "  </tbody>\n",
       "</table>\n",
       "</div>"
      ],
      "text/plain": [
       "               ride_id\n",
       "city                  \n",
       "Amandaburgh         18\n",
       "Barajasview         22\n",
       "Barronchester       16\n",
       "Bethanyland         18\n",
       "Bradshawfurt        10"
      ]
     },
     "execution_count": 7,
     "metadata": {},
     "output_type": "execute_result"
    }
   ],
   "source": [
    "#Total Number of Rides Per City\n",
    "\n",
    "tot_rides_by_city = by_city[\"ride_id\"].count()\n",
    "tot_rides_by_city=pd.DataFrame(tot_rides_by_city)\n",
    "tot_rides_by_city.head()"
   ]
  },
  {
   "cell_type": "code",
   "execution_count": 8,
   "metadata": {},
   "outputs": [
    {
     "data": {
      "text/html": [
       "<div>\n",
       "<style scoped>\n",
       "    .dataframe tbody tr th:only-of-type {\n",
       "        vertical-align: middle;\n",
       "    }\n",
       "\n",
       "    .dataframe tbody tr th {\n",
       "        vertical-align: top;\n",
       "    }\n",
       "\n",
       "    .dataframe thead th {\n",
       "        text-align: right;\n",
       "    }\n",
       "</style>\n",
       "<table border=\"1\" class=\"dataframe\">\n",
       "  <thead>\n",
       "    <tr style=\"text-align: right;\">\n",
       "      <th></th>\n",
       "      <th>city</th>\n",
       "      <th>driver_count</th>\n",
       "    </tr>\n",
       "  </thead>\n",
       "  <tbody>\n",
       "    <tr>\n",
       "      <th>0</th>\n",
       "      <td>Richardfort</td>\n",
       "      <td>38</td>\n",
       "    </tr>\n",
       "    <tr>\n",
       "      <th>28</th>\n",
       "      <td>Williamsstad</td>\n",
       "      <td>59</td>\n",
       "    </tr>\n",
       "    <tr>\n",
       "      <th>51</th>\n",
       "      <td>Port Angela</td>\n",
       "      <td>67</td>\n",
       "    </tr>\n",
       "    <tr>\n",
       "      <th>70</th>\n",
       "      <td>Rodneyfort</td>\n",
       "      <td>34</td>\n",
       "    </tr>\n",
       "    <tr>\n",
       "      <th>93</th>\n",
       "      <td>West Robert</td>\n",
       "      <td>39</td>\n",
       "    </tr>\n",
       "  </tbody>\n",
       "</table>\n",
       "</div>"
      ],
      "text/plain": [
       "            city  driver_count\n",
       "0    Richardfort            38\n",
       "28  Williamsstad            59\n",
       "51   Port Angela            67\n",
       "70    Rodneyfort            34\n",
       "93   West Robert            39"
      ]
     },
     "execution_count": 8,
     "metadata": {},
     "output_type": "execute_result"
    }
   ],
   "source": [
    "# Filtering data by unique cities \n",
    "\n",
    "df2= (df.drop_duplicates(['city']))\n",
    "df2.head()\n",
    "\n",
    "#Total Number of Drivers Per City\n",
    "\n",
    "tot_drivers_by_city = df2[[\"city\", \"driver_count\"]]\n",
    "tot_drivers_by_city= pd.DataFrame(tot_drivers_by_city)\n",
    "tot_drivers_by_city.head() "
   ]
  },
  {
   "cell_type": "code",
   "execution_count": 9,
   "metadata": {},
   "outputs": [
    {
     "data": {
      "text/html": [
       "<div>\n",
       "<style scoped>\n",
       "    .dataframe tbody tr th:only-of-type {\n",
       "        vertical-align: middle;\n",
       "    }\n",
       "\n",
       "    .dataframe tbody tr th {\n",
       "        vertical-align: top;\n",
       "    }\n",
       "\n",
       "    .dataframe thead th {\n",
       "        text-align: right;\n",
       "    }\n",
       "</style>\n",
       "<table border=\"1\" class=\"dataframe\">\n",
       "  <thead>\n",
       "    <tr style=\"text-align: right;\">\n",
       "      <th></th>\n",
       "      <th>city</th>\n",
       "      <th>type</th>\n",
       "    </tr>\n",
       "  </thead>\n",
       "  <tbody>\n",
       "    <tr>\n",
       "      <th>0</th>\n",
       "      <td>Richardfort</td>\n",
       "      <td>Urban</td>\n",
       "    </tr>\n",
       "    <tr>\n",
       "      <th>28</th>\n",
       "      <td>Williamsstad</td>\n",
       "      <td>Urban</td>\n",
       "    </tr>\n",
       "    <tr>\n",
       "      <th>51</th>\n",
       "      <td>Port Angela</td>\n",
       "      <td>Urban</td>\n",
       "    </tr>\n",
       "    <tr>\n",
       "      <th>70</th>\n",
       "      <td>Rodneyfort</td>\n",
       "      <td>Urban</td>\n",
       "    </tr>\n",
       "    <tr>\n",
       "      <th>93</th>\n",
       "      <td>West Robert</td>\n",
       "      <td>Urban</td>\n",
       "    </tr>\n",
       "  </tbody>\n",
       "</table>\n",
       "</div>"
      ],
      "text/plain": [
       "            city   type\n",
       "0    Richardfort  Urban\n",
       "28  Williamsstad  Urban\n",
       "51   Port Angela  Urban\n",
       "70    Rodneyfort  Urban\n",
       "93   West Robert  Urban"
      ]
     },
     "execution_count": 9,
     "metadata": {},
     "output_type": "execute_result"
    }
   ],
   "source": [
    "#City by type \n",
    "city_type = df2[[\"city\",\"type\"]]\n",
    "city_type = pd.DataFrame(city_type)\n",
    "city_type.head()"
   ]
  },
  {
   "cell_type": "code",
   "execution_count": 10,
   "metadata": {},
   "outputs": [
    {
     "data": {
      "text/html": [
       "<div>\n",
       "<style scoped>\n",
       "    .dataframe tbody tr th:only-of-type {\n",
       "        vertical-align: middle;\n",
       "    }\n",
       "\n",
       "    .dataframe tbody tr th {\n",
       "        vertical-align: top;\n",
       "    }\n",
       "\n",
       "    .dataframe thead th {\n",
       "        text-align: right;\n",
       "    }\n",
       "</style>\n",
       "<table border=\"1\" class=\"dataframe\">\n",
       "  <thead>\n",
       "    <tr style=\"text-align: right;\">\n",
       "      <th></th>\n",
       "      <th>type</th>\n",
       "      <th>city</th>\n",
       "      <th>fare</th>\n",
       "      <th>total rides</th>\n",
       "      <th>driver_count</th>\n",
       "    </tr>\n",
       "  </thead>\n",
       "  <tbody>\n",
       "    <tr>\n",
       "      <th>0</th>\n",
       "      <td>Urban</td>\n",
       "      <td>Amandaburgh</td>\n",
       "      <td>24.641667</td>\n",
       "      <td>18</td>\n",
       "      <td>12</td>\n",
       "    </tr>\n",
       "    <tr>\n",
       "      <th>1</th>\n",
       "      <td>Urban</td>\n",
       "      <td>Barajasview</td>\n",
       "      <td>25.332273</td>\n",
       "      <td>22</td>\n",
       "      <td>26</td>\n",
       "    </tr>\n",
       "    <tr>\n",
       "      <th>2</th>\n",
       "      <td>Suburban</td>\n",
       "      <td>Barronchester</td>\n",
       "      <td>36.422500</td>\n",
       "      <td>16</td>\n",
       "      <td>11</td>\n",
       "    </tr>\n",
       "    <tr>\n",
       "      <th>3</th>\n",
       "      <td>Suburban</td>\n",
       "      <td>Bethanyland</td>\n",
       "      <td>32.956111</td>\n",
       "      <td>18</td>\n",
       "      <td>22</td>\n",
       "    </tr>\n",
       "    <tr>\n",
       "      <th>4</th>\n",
       "      <td>Rural</td>\n",
       "      <td>Bradshawfurt</td>\n",
       "      <td>40.064000</td>\n",
       "      <td>10</td>\n",
       "      <td>7</td>\n",
       "    </tr>\n",
       "  </tbody>\n",
       "</table>\n",
       "</div>"
      ],
      "text/plain": [
       "       type           city       fare  total rides  driver_count\n",
       "0     Urban    Amandaburgh  24.641667           18            12\n",
       "1     Urban    Barajasview  25.332273           22            26\n",
       "2  Suburban  Barronchester  36.422500           16            11\n",
       "3  Suburban    Bethanyland  32.956111           18            22\n",
       "4     Rural   Bradshawfurt  40.064000           10             7"
      ]
     },
     "execution_count": 10,
     "metadata": {},
     "output_type": "execute_result"
    }
   ],
   "source": [
    "#data merge \n",
    "data1 = pd.merge(avg_fare_by_city,tot_rides_by_city, how ='outer', on='city' )\n",
    "data1.head()\n",
    "data2 = pd.merge(data1,tot_drivers_by_city, how ='outer', on='city' )\n",
    "data2.head()\n",
    "data3 = pd.merge(data2,city_type, how ='outer', on='city' )\n",
    "data3.head()\n",
    "data4 = data3.rename(columns ={\"ride_id\" : \"total rides\"})\n",
    "data4.head()\n",
    "organised_df = data4[[\"type\",\"city\",\"fare\",\"total rides\", \"driver_count\"]]\n",
    "organised_df.head()"
   ]
  },
  {
   "cell_type": "code",
   "execution_count": 11,
   "metadata": {},
   "outputs": [
    {
     "data": {
      "text/html": [
       "<div>\n",
       "<style scoped>\n",
       "    .dataframe tbody tr th:only-of-type {\n",
       "        vertical-align: middle;\n",
       "    }\n",
       "\n",
       "    .dataframe tbody tr th {\n",
       "        vertical-align: top;\n",
       "    }\n",
       "\n",
       "    .dataframe thead th {\n",
       "        text-align: right;\n",
       "    }\n",
       "</style>\n",
       "<table border=\"1\" class=\"dataframe\">\n",
       "  <thead>\n",
       "    <tr style=\"text-align: right;\">\n",
       "      <th></th>\n",
       "      <th>type</th>\n",
       "      <th>city</th>\n",
       "      <th>fare</th>\n",
       "      <th>total rides</th>\n",
       "      <th>driver_count</th>\n",
       "    </tr>\n",
       "  </thead>\n",
       "  <tbody>\n",
       "    <tr>\n",
       "      <th>0</th>\n",
       "      <td>Urban</td>\n",
       "      <td>Amandaburgh</td>\n",
       "      <td>24.641667</td>\n",
       "      <td>18</td>\n",
       "      <td>12</td>\n",
       "    </tr>\n",
       "    <tr>\n",
       "      <th>1</th>\n",
       "      <td>Urban</td>\n",
       "      <td>Barajasview</td>\n",
       "      <td>25.332273</td>\n",
       "      <td>22</td>\n",
       "      <td>26</td>\n",
       "    </tr>\n",
       "    <tr>\n",
       "      <th>6</th>\n",
       "      <td>Urban</td>\n",
       "      <td>Carriemouth</td>\n",
       "      <td>28.314444</td>\n",
       "      <td>27</td>\n",
       "      <td>52</td>\n",
       "    </tr>\n",
       "    <tr>\n",
       "      <th>7</th>\n",
       "      <td>Urban</td>\n",
       "      <td>Christopherfurt</td>\n",
       "      <td>24.501852</td>\n",
       "      <td>27</td>\n",
       "      <td>41</td>\n",
       "    </tr>\n",
       "    <tr>\n",
       "      <th>10</th>\n",
       "      <td>Urban</td>\n",
       "      <td>Deanville</td>\n",
       "      <td>25.842632</td>\n",
       "      <td>19</td>\n",
       "      <td>49</td>\n",
       "    </tr>\n",
       "  </tbody>\n",
       "</table>\n",
       "</div>"
      ],
      "text/plain": [
       "     type             city       fare  total rides  driver_count\n",
       "0   Urban      Amandaburgh  24.641667           18            12\n",
       "1   Urban      Barajasview  25.332273           22            26\n",
       "6   Urban      Carriemouth  28.314444           27            52\n",
       "7   Urban  Christopherfurt  24.501852           27            41\n",
       "10  Urban        Deanville  25.842632           19            49"
      ]
     },
     "execution_count": 11,
     "metadata": {},
     "output_type": "execute_result"
    }
   ],
   "source": [
    "#Setting the data frames by the three city types\n",
    "\n",
    "#Rural \n",
    "rural = organised_df.loc[organised_df[\"type\"] == \"Rural\", :]\n",
    "rural = pd.DataFrame(rural)\n",
    "rural.head()\n",
    "\n",
    "#Suburban \n",
    "suburban = organised_df.loc[organised_df[\"type\"] == \"Suburban\", :]\n",
    "suburban = pd.DataFrame(suburban)\n",
    "suburban.head()\n",
    " \n",
    "#Urban \n",
    "urban = organised_df.loc[organised_df[\"type\"] == \"Urban\", :]\n",
    "urban = pd.DataFrame(urban)\n",
    "urban.head()"
   ]
  },
  {
   "cell_type": "code",
   "execution_count": 16,
   "metadata": {},
   "outputs": [
    {
     "data": {
      "image/png": "[encoded data removed]",
      "text/plain": [
       "<Figure size 432x288 with 1 Axes>"
      ]
     },
     "metadata": {},
     "output_type": "display_data"
    },
    {
     "data": {
      "text/plain": [
       "<Figure size 432x288 with 0 Axes>"
      ]
     },
     "metadata": {},
     "output_type": "display_data"
    }
   ],
   "source": [
    "\n",
    "#Obtain the x and y coordinates for each of the three city types\n",
    "#Rural \n",
    "rural = organised_df.loc[organised_df[\"type\"] == \"Rural\", :]\n",
    "rural = pd.DataFrame(rural)\n",
    "rural.head()\n",
    "\n",
    "xr=rural['total rides']\n",
    "yr=rural['fare']\n",
    "\n",
    "colors = [\"gold\"] \n",
    "labels = \"Rural\"\n",
    "size = rural['driver_count'] \n",
    "\n",
    "#Suburban \n",
    "suburban = organised_df.loc[organised_df[\"type\"] == \"Suburban\", :]\n",
    "suburban = pd.DataFrame(suburban)\n",
    "suburban.head()\n",
    "\n",
    "xsu=suburban['total rides']\n",
    "ysu=suburban['fare']\n",
    "\n",
    "colors1 = [\"lightskyblue\"]           \n",
    "labels1 = \"Suburban\"  \n",
    "size1 = suburban['driver_count'] \n",
    "\n",
    "\n",
    "#Urban \n",
    "urban = organised_df.loc[organised_df[\"type\"] == \"Urban\", :]\n",
    "urban = pd.DataFrame(urban)\n",
    "urban.head()\n",
    "\n",
    "xu=urban['total rides']\n",
    "yu=urban['fare']\n",
    "\n",
    "colors2 = [\"lightcoral\"]\n",
    "size2 = urban['driver_count']  \n",
    "labels2 = \"Urban\"\n",
    "\n",
    "    \n",
    "# Build the scatter plots for each city types\n",
    "                    \n",
    "ride_scatter_rural = plt.scatter(x=xr, y=yr, data=rural, marker=\"o\", label = labels,\n",
    "                                 color=colors, s=size*10, alpha=0.5,linewidth=2, edgecolor =\"black\")\n",
    "ride_scatter_suburban = plt.scatter(x=xsu, y=ysu, data=suburban, marker=\"o\", label = labels1,\n",
    "                                    color=colors1,s=size1*10, alpha=0.5,linewidth=2, edgecolor = \"black\") \n",
    "ride_scatter_urban = plt.scatter(x=xu, y=yu, data=urban, marker=\"o\", label = labels2,\n",
    "                                 color=colors2,s=size2*10, alpha=0.5,linewidth=2, edgecolor = \"black\") \n",
    "\n",
    "                    \n",
    "#Incorporate the other graph properties\n",
    " \n",
    "plt.title(\"Pyber Ride Sharing data\")\n",
    "plt.xlabel(\"Total Number of Rides (Per city)\")\n",
    "plt.ylabel(\"Average Fare($)\")\n",
    "    \n",
    "# Incorporate a text label regarding circle siz\n",
    "plt.figtext(.95, .5, 'Note:Circle Size correlates with driver count per city',verticalalignment='center',\n",
    "            rotation='horizontal')\n",
    "\n",
    "# add a legend \n",
    "plt.legend(handles= [ride_scatter_rural, ride_scatter_urban, ride_scatter_suburban],title='City Types', loc=\"best\") \n",
    "plt.show()   \n",
    " \n",
    "\n",
    "\n",
    "# Save Figure\n",
    "plt.savefig(\"Pyber Ride Sharing Scatter.png\")\n",
    "plt.show()\n",
    "\n",
    "\n",
    "\n"
   ]
  },
  {
   "cell_type": "markdown",
   "metadata": {},
   "source": [
    "## Total Fares by City Type"
   ]
  },
  {
   "cell_type": "code",
   "execution_count": 13,
   "metadata": {},
   "outputs": [
    {
     "data": {
      "image/png": "[encoded data removed]",
      "text/plain": [
       "<Figure size 432x288 with 1 Axes>"
      ]
     },
     "metadata": {},
     "output_type": "display_data"
    }
   ],
   "source": [
    "# Calculate Type Percents\n",
    "\n",
    "#group rides by type \n",
    "by_type =df.groupby(\"type\")\n",
    " \n",
    "# total fares by type \n",
    "fare_by_type = by_type[\"fare\"].sum()\n",
    "fare_by_type\n",
    "\n",
    "percent_fare_by_type = fare_by_type/df[\"fare\"].sum()\n",
    "percent_fare_by_type = percent_fare_by_type*100\n",
    "percent_fare_by_type\n",
    "\n",
    "\n",
    "# Build Pie Chart\n",
    "\n",
    "explode = (0,0, 0.10)\n",
    "colors = [\"gold\", \"lightskyblue\", \"lightcoral\"]\n",
    "labels =[\"Rural\", \"Suburban\", \"Urban\" ]\n",
    "\n",
    "plt.title(\"% of Total Fares by City Type\")\n",
    "plt.pie(percent_fare_by_type, explode=explode, labels = labels, colors=colors,\n",
    "       autopct=\"%1.1f%%\", shadow=True, startangle=180)\n",
    "plt.axis(\"equal\")\n",
    "\n",
    "\n",
    "# Save Figure\n",
    "\n",
    "plt.savefig('Fare_bycitytype.png')\n",
    "\n",
    "# Show Figure\n",
    "plt.show()\n",
    "\n"
   ]
  },
  {
   "cell_type": "markdown",
   "metadata": {},
   "source": [
    "## Total Rides by City Type"
   ]
  },
  {
   "cell_type": "code",
   "execution_count": 14,
   "metadata": {},
   "outputs": [
    {
     "data": {
      "image/png": "[encoded data removed]",
      "text/plain": [
       "<Figure size 432x288 with 1 Axes>"
      ]
     },
     "metadata": {},
     "output_type": "display_data"
    }
   ],
   "source": [
    "# Calculate Ride Percents\n",
    " \n",
    "# total rides by type \n",
    "ride_by_type = by_type[\"ride_id\"].count()\n",
    "ride_by_type\n",
    "\n",
    "percent_ride_by_type = ride_by_type/df[\"ride_id\"].count()\n",
    "percent_ride_by_type = percent_ride_by_type*100\n",
    "percent_ride_by_type\n",
    "\n",
    "\n",
    "# Build Pie Chart\n",
    "\n",
    "explode = (0,0, 0.10)\n",
    "colors = [\"gold\", \"lightskyblue\", \"lightcoral\"]\n",
    "labels =[\"Rural\", \"Suburban\", \"Urban\" ]\n",
    "\n",
    "plt.title(\"% of Total Fares by City Type\")\n",
    "plt.pie(percent_ride_by_type, explode=explode, labels = labels, colors=colors,\n",
    "        autopct=\"%1.1f%%\", shadow=True, startangle=180)\n",
    "plt.axis(\"equal\")\n",
    "\n",
    "\n",
    "# Save Figure\n",
    "\n",
    "plt.savefig('ride_bycitytype.png')\n",
    "# Show Figure\n",
    "plt.show()\n"
   ]
  },
  {
   "cell_type": "markdown",
   "metadata": {},
   "source": [
    "## Total Drivers by City Type"
   ]
  },
  {
   "cell_type": "code",
   "execution_count": 15,
   "metadata": {},
   "outputs": [
    {
     "data": {
      "image/png": "[encoded data removed]",
      "text/plain": [
       "<Figure size 432x288 with 1 Axes>"
      ]
     },
     "metadata": {},
     "output_type": "display_data"
    }
   ],
   "source": [
    "\n",
    "#group drivers by type \n",
    "by_type2 =df2.groupby(\"type\")\n",
    "\n",
    " \n",
    "# total drivers by type \n",
    "driver_by_type = by_type2[\"driver_count\"].sum()\n",
    "driver_by_type\n",
    "\n",
    "percent_driver_by_type = driver_by_type/df2[\"driver_count\"].sum()\n",
    "percent_driver_by_type = percent_driver_by_type*100\n",
    "percent_driver_by_type\n",
    "\n",
    "\n",
    "# Build Pie Chart\n",
    "\n",
    "explode = (0,0, 0.10)\n",
    "colors = [\"gold\", \"lightskyblue\", \"lightcoral\"]\n",
    "labels =[\"Rural\", \"Suburban\", \"Urban\" ]\n",
    "\n",
    "plt.title(\"% of Total Fares by City Type\")\n",
    "plt.pie(percent_driver_by_type, explode=explode, labels = labels, colors=colors,\n",
    "        autopct=\"%1.1f%%\", shadow=True, startangle=180)\n",
    "plt.axis(\"equal\")\n",
    "\n",
    "\n",
    "# Save Figure\n",
    "\n",
    "plt.savefig('driver_bycitytype.png')\n",
    "\n",
    "# Show Figure\n",
    "plt.show()\n",
    "\n",
    "\n"
   ]
  }
 ],
 "metadata": {
  "anaconda-cloud": {},
  "kernelspec": {
   "display_name": "Python 3",
   "language": "python",
   "name": "python3"
  },
  "language_info": {
   "codemirror_mode": {
    "name": "ipython",
    "version": 3
   },
   "file_extension": ".py",
   "mimetype": "text/x-python",
   "name": "python",
   "nbconvert_exporter": "python",
   "pygments_lexer": "ipython3",
   "version": "3.6.5"
  }
 },
 "nbformat": 4,
 "nbformat_minor": 2
}
